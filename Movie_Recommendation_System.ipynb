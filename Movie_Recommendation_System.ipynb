{
  "nbformat": 4,
  "nbformat_minor": 0,
  "metadata": {
    "colab": {
      "name": "Movie_Recommendation_System.ipynb",
      "provenance": [],
      "collapsed_sections": []
    },
    "kernelspec": {
      "name": "python3",
      "display_name": "Python 3"
    },
    "language_info": {
      "name": "python"
    }
  },
  "cells": [
    {
      "cell_type": "markdown",
      "metadata": {
        "id": "vGFMg_aPW3P_"
      },
      "source": [
        "# **MOVIE RECOMMENDATION SYSTEM** "
      ]
    },
    {
      "cell_type": "markdown",
      "metadata": {
        "id": "ybz7GGTnIdzg"
      },
      "source": [
        "**SIMILAR MOVIES:**"
      ]
    },
    {
      "cell_type": "code",
      "metadata": {
        "colab": {
          "base_uri": "https://localhost:8080/"
        },
        "id": "qSKOkQZNk1Gp",
        "outputId": "26065611-08e7-4876-b7ef-d55b8ff5d4b2"
      },
      "source": [
        "import pandas as pd\n",
        "from sklearn import preprocessing\n",
        "from sklearn.feature_extraction.text import TfidfVectorizer\n",
        "from sklearn.metrics.pairwise import cosine_similarity\n",
        "from sklearn.model_selection import train_test_split\n",
        "from sklearn.preprocessing import StandardScaler\n",
        "from sklearn.preprocessing import LabelBinarizer\n",
        "from sklearn.metrics import confusion_matrix, accuracy_score, precision_score,classification_report\n",
        "from sklearn.ensemble import RandomForestClassifier\n",
        "from sklearn.naive_bayes import GaussianNB\n",
        "\n",
        "\n",
        "\n",
        "\n",
        "def get_similar_movies(movie_df, title, indices, cos_sim):\n",
        "    curr_index = indices[title]\n",
        "\n",
        "    sim_scores = list(enumerate(cos_sim[curr_index]))\n",
        "\n",
        "    sim_scores = sorted(sim_scores, key=lambda x: x[1], reverse=True)\n",
        "\n",
        "    sim_scores = sim_scores[1:11]\n",
        "\n",
        "    movie_indices = [i[0] for i in sim_scores]\n",
        "\n",
        "    return movie_df['title'].iloc[movie_indices]\n",
        "\n",
        "\n",
        "def main():\n",
        "    movies_df = pd.read_csv('/content/tmdb_5000_movies.csv')\n",
        "    movies_df.head(10)\n",
        "\n",
        "    #Summary of the dataset\n",
        "    movies_df.describe()\n",
        "\n",
        "    # Remove stop words from the 'overview'\n",
        "    tf_idf_vectorizer_object = TfidfVectorizer(stop_words='english')\n",
        "\n",
        "    # Replace NaN string with empty string\n",
        "    movies_df['overview'] = movies_df['overview'].fillna('')\n",
        "\n",
        "    # Construct the TF_IDF matrix\n",
        "    tf_idf_matrix = tf_idf_vectorizer_object.fit_transform(movies_df['overview'])\n",
        "    #print(tf_idf_matrix)\n",
        "\n",
        "    # Calculate the cosine similarity\n",
        "    cos_sim = cosine_similarity(tf_idf_matrix, tf_idf_matrix)\n",
        "\n",
        "    # Construct a map from title to index\n",
        "    title_to_index = pd.Series(movies_df.index, index=movies_df['title']).drop_duplicates()\n",
        "    #print(title_to_index)\n",
        "\n",
        "    search_movie_title = 'Kids'\n",
        "\n",
        "    print('Movies similar to ' + search_movie_title + ' are:')\n",
        "    print(get_similar_movies(movies_df, search_movie_title, title_to_index, cos_sim))\n",
        "\n",
        "    \n",
        "\n",
        "if __name__ == \"__main__\":\n",
        "    main()\n"
      ],
      "execution_count": null,
      "outputs": [
        {
          "output_type": "stream",
          "text": [
            "Movies similar to Raising Cain are:\n",
            "1254                      Get Carter\n",
            "4217                            Kids\n",
            "4161     The Marine 4: Moving Target\n",
            "1626          My Super Ex-Girlfriend\n",
            "4                        John Carter\n",
            "3563           Paranormal Activity 4\n",
            "231                   Monsters, Inc.\n",
            "2854    Def Jam's How to Be a Player\n",
            "2375                Midnight Special\n",
            "1307                   The Hurricane\n",
            "Name: title, dtype: object\n"
          ],
          "name": "stdout"
        }
      ]
    },
    {
      "cell_type": "markdown",
      "metadata": {
        "id": "QOkYrnSlIIOv"
      },
      "source": [
        "**TOP 10 MOVIES :**"
      ]
    },
    {
      "cell_type": "code",
      "metadata": {
        "colab": {
          "base_uri": "https://localhost:8080/"
        },
        "id": "OkSSp33ZltK3",
        "outputId": "46255667-74f2-4437-8ce3-21503ba5a2a3"
      },
      "source": [
        "import pandas as pd\n",
        "import numpy as np\n",
        "\n",
        "minimum_votes = 0\n",
        "mean_rating = 0\n",
        "\n",
        "\n",
        "def score(df, m=minimum_votes, c=mean_rating):\n",
        "    v = df['vote_count']\n",
        "    r = df['vote_average']\n",
        "\n",
        "    return ((v / v + m) * r) + ((m / v + m) * c)\n",
        "\n",
        "\n",
        "def main():\n",
        "    movies_df = pd.read_csv('/content/tmdb_5000_movies.csv')\n",
        "\n",
        "    # Mean rating of all movies\n",
        "    mean_rating = movies_df['vote_average'].mean()\n",
        "\n",
        "    # Minimum votes should be at least  75th percentile\n",
        "    minimum_votes = movies_df['vote_count'].quantile(0.75)\n",
        "\n",
        "    top_movies = movies_df.copy().loc[movies_df['vote_count'] >= minimum_votes]\n",
        "\n",
        "    # axis=1, use the index as the dataframe's column\n",
        "    top_movies['score'] = top_movies.apply(score, axis=1)\n",
        "\n",
        "    top_movies = top_movies.sort_values('score', ascending=False)\n",
        "\n",
        "    print(\"The list of top 10 movies are:\"+\"\\n\"+str(top_movies[['original_title', 'score', ]].head(10)))\n",
        "\n",
        "\n",
        "if __name__ == \"__main__\":\n",
        "    main()\n"
      ],
      "execution_count": null,
      "outputs": [
        {
          "output_type": "stream",
          "text": [
            "The list of top 10 movies are:\n",
            "                original_title  score\n",
            "1881  The Shawshank Redemption    8.5\n",
            "3337             The Godfather    8.4\n",
            "2294                  千と千尋の神隠し    8.3\n",
            "3865                  Whiplash    8.3\n",
            "2731    The Godfather: Part II    8.3\n",
            "3232              Pulp Fiction    8.3\n",
            "1818          Schindler's List    8.3\n",
            "662                 Fight Club    8.3\n",
            "2170                    Psycho    8.2\n",
            "1847                GoodFellas    8.2\n"
          ],
          "name": "stdout"
        }
      ]
    },
    {
      "cell_type": "markdown",
      "metadata": {
        "id": "x4RqIapvKEIU"
      },
      "source": [
        "**MODEL FITTING:**"
      ]
    },
    {
      "cell_type": "code",
      "metadata": {
        "colab": {
          "base_uri": "https://localhost:8080/"
        },
        "id": "rHu9kx9LJnmE",
        "outputId": "88ab3a17-4598-4ef1-9f70-45864a5812f7"
      },
      "source": [
        "    movies_df = pd.read_csv('/content/tmdb_5000_movies.csv')\n",
        "    #movies_df.head(10)\n",
        "    movies_df [\"original_language\"]= movies_df [\"original_language\"].replace(\"en\", \"0\")\n",
        "    movies_df [\"original_language\"]= movies_df [\"original_language\"].replace(\"fr\", \"1\")\n",
        "    #print(movies_df)\n",
        "\n",
        "    ###scaling the dataset!!!\n",
        "    X = movies_df.iloc[:,18:19]\n",
        "    y = movies_df.iloc[:,19]\n",
        "\n",
        "    ###Splitting the dataset into the Train set and Test set!!!\n",
        "    X_train, X_test, y_train, y_test = train_test_split(X, y, test_size = 0.25, random_state = 0)\n",
        "    \n",
        "    sc = StandardScaler()\n",
        "    X_train = sc.fit_transform(X_train)\n",
        "    X_test = sc.transform(X_test)\n",
        "    #print(X_train)\n",
        "    #print(X_test)\n",
        "\n",
        "    \n",
        "    ###fitting the model!!!\n",
        "    ###RANDOM FOREST\n",
        "    classifier = RandomForestClassifier(n_estimators = 10, criterion = 'entropy', random_state = 0)\n",
        "    classifier.fit(X_train, y_train)\n",
        "    y_pred = classifier.predict(X_test)\n",
        "    \n",
        "    c_matrix = confusion_matrix(y_test, y_pred)\n",
        "    #print(c_matrix)\n",
        "    print('Classification Report Of Random Forest:\\n', classification_report(y_test, y_pred))\n",
        "    #print('Confusion Matrix:\\n', confusion_matrix(y_test, y_pred))\n",
        "    print('\\n Model Accuracy for Random Forest: \\n \\t', accuracy_score(y_test, y_pred)*100)\n",
        "    print(\"\\n Training Accuracy: \\n \\t\", classifier.score(X_train, y_train)*100)\n",
        "    print(\"\\n Testing Accuracy: \\n \\t\", classifier.score(X_test, y_test)*100)\n",
        "  \n",
        "    ###NAIVE BAYES\n",
        "    X_train, X_test, y_train, y_test = train_test_split(X, y, test_size = 0.3, random_state = 0)\n",
        "    sc = StandardScaler()\n",
        "    X_train = sc.fit_transform(X_train)\n",
        "    X_test = sc.transform(X_test)\n",
        " \n",
        "    #print('\\nTotal number of examples are: ', len(X))\n",
        "    #print('\\nOut of these, training examples are: ', len(X_train))\n",
        "    #print(\"\\nTest examples are: \", len(X_test))\n",
        " \n",
        "    classifier = GaussianNB()\n",
        "    classifier.fit(X_train, y_train)\n",
        "    #y_train = y_train.reshape(-1,1)\n",
        "    y_pred = classifier.predict(X_test)\n",
        "    \n",
        "    c_matrix = confusion_matrix(y_test, y_pred)\n",
        "    #print(c_matrix)\n",
        "    print('\\n Classification Report Of Naive Bayes:\\n', classification_report(y_test, y_pred))\n",
        "    #print('Confusion Matrix:\\n', confusion_matrix(y_test, y_pred))\n",
        "    print('\\n Model Accuracy for Naive Bayes:\\n \\t', accuracy_score(y_test, y_pred)*100)\n",
        "    print(\"\\n Training Accuracy:\\n \\t\", classifier.score(X_train, y_train)*100)\n",
        "    print(\"\\n Testing Accuracy:\\n \\t\", classifier.score(X_test, y_test)*100)"
      ],
      "execution_count": null,
      "outputs": [
        {
          "output_type": "stream",
          "text": [
            "Classification Report Of Random Forest:\n",
            "               precision    recall  f1-score   support\n",
            "\n",
            "           0       0.95      0.98      0.97      1139\n",
            "           1       0.05      0.02      0.02        62\n",
            "\n",
            "    accuracy                           0.93      1201\n",
            "   macro avg       0.50      0.50      0.49      1201\n",
            "weighted avg       0.90      0.93      0.92      1201\n",
            "\n",
            "\n",
            " Model Accuracy for Random Forest: \n",
            " \t 93.255620316403\n",
            "\n",
            " Training Accuracy: \n",
            " \t 93.75347029428096\n",
            "\n",
            " Testing Accuracy: \n",
            " \t 93.255620316403\n",
            "\n",
            " Classification Report Of Naive Bayes:\n",
            "               precision    recall  f1-score   support\n",
            "\n",
            "           0       0.95      1.00      0.97      1363\n",
            "           1       0.00      0.00      0.00        78\n",
            "\n",
            "    accuracy                           0.95      1441\n",
            "   macro avg       0.47      0.50      0.49      1441\n",
            "weighted avg       0.89      0.95      0.92      1441\n",
            "\n",
            "\n",
            " Model Accuracy for Naive Bayes:\n",
            " \t 94.58709229701596\n",
            "\n",
            " Training Accuracy:\n",
            " \t 93.48602022605593\n",
            "\n",
            " Testing Accuracy:\n",
            " \t 94.58709229701596\n"
          ],
          "name": "stdout"
        },
        {
          "output_type": "stream",
          "text": [
            "/usr/local/lib/python3.7/dist-packages/sklearn/metrics/_classification.py:1272: UndefinedMetricWarning: Precision and F-score are ill-defined and being set to 0.0 in labels with no predicted samples. Use `zero_division` parameter to control this behavior.\n",
            "  _warn_prf(average, modifier, msg_start, len(result))\n"
          ],
          "name": "stderr"
        }
      ]
    }
  ]
}